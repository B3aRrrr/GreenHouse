{
 "cells": [
  {
   "cell_type": "code",
   "execution_count": null,
   "metadata": {},
   "outputs": [],
   "source": [
    "!pip install --upgrade pip\n",
    "!sudo apt-get install swig build-essential  python3-dev\n",
    "\n",
    "!pip install -r requirements.txt\n",
    "!pip3 install box2d-py -i https://pypi.tuna.tsinghua.edu.cn/simple"
   ]
  },
  {
   "cell_type": "code",
   "execution_count": 5,
   "metadata": {},
   "outputs": [],
   "source": [
    "#\n",
    "import torch\n",
    "\n",
    "from ddpg_torch import AgentDDPG\n",
    "from sac_torch import AgentSAC\n",
    "import gym\n",
    "# from SAC import SAC_Agent\n",
    "from ReplayBuffer import RandomBuffer, device\n",
    "from torch.utils.tensorboard import SummaryWriter\n",
    "from datetime import datetime\n",
    "import os, shutil\n",
    "import argparse\n",
    "from Adapter import *\n",
    "#\n",
    "import gym\n",
    "import numpy as np\n",
    "from utils import plotLearning\n",
    "\n",
    "import glob\n",
    "from PIL import Image\n",
    "\n",
    "from utils import show_video, convert_gif\n",
    "from gym.wrappers.monitoring.video_recorder import VideoRecorder\n",
    "\n",
    "\n",
    "from base64 import b64encode"
   ]
  },
  {
   "cell_type": "code",
   "execution_count": 4,
   "metadata": {},
   "outputs": [],
   "source": [
    "!rm -r requirements.txt\n",
    "!pip freeze > requirements.txt"
   ]
  },
  {
   "cell_type": "markdown",
   "metadata": {},
   "source": [
    "### BidepalWalker"
   ]
  },
  {
   "cell_type": "code",
   "execution_count": 6,
   "metadata": {},
   "outputs": [
    {
     "name": "stdout",
     "output_type": "stream",
     "text": [
      "[24] 4\n",
      "[24] 4\n"
     ]
    }
   ],
   "source": [
    "# name_env = 'LunarLanderContinuous-v2'\n",
    "name_env =\"BipedalWalker-v3\"\n",
    "env = gym.make(name_env)\n",
    "\n",
    "print([*env.observation_space.shape],*env.action_space.shape)\n",
    "\n",
    "input_dims = [*env.observation_space.shape]\n",
    "n_actions = env.action_space.shape[0]\n",
    "\n",
    "print(input_dims,n_actions)\n",
    "\n",
    "\n",
    "def make_gif(frame_folder,name):\n",
    "      frames = [Image.open(image) for image in glob.glob(f\"{frame_folder}/*.png\")]\n",
    "      frame_one = frames[0]\n",
    "      frame_one.save(os.path.join(frame_folder,f\"{name}.gif\"), format=\"GIF\", append_images=frames,\n",
    "                save_all=True, duration=100, loop=0)\n",
    "def render_mp4(videopath: str) -> str:\n",
    "    \"\"\"\n",
    "    Gets a string containing a b4-encoded version of the MP4 video\n",
    "    at the specified path.\n",
    "    \"\"\"\n",
    "    mp4 = open(videopath, 'rb').read()\n",
    "    base64_encoded_mp4 = b64encode(mp4).decode()\n",
    "    return f'<video width=400 controls><source src=\"data:video/mp4;' \\\n",
    "          f'base64,{base64_encoded_mp4}\" type=\"video/mp4\"></video>'"
   ]
  }
 ],
 "metadata": {
  "kernelspec": {
   "display_name": ".venv",
   "language": "python",
   "name": "python3"
  },
  "language_info": {
   "codemirror_mode": {
    "name": "ipython",
    "version": 3
   },
   "file_extension": ".py",
   "mimetype": "text/x-python",
   "name": "python",
   "nbconvert_exporter": "python",
   "pygments_lexer": "ipython3",
   "version": "3.10.6"
  },
  "orig_nbformat": 4
 },
 "nbformat": 4,
 "nbformat_minor": 2
}
